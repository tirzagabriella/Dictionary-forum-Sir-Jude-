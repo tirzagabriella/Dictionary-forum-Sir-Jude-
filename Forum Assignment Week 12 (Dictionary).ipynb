{
 "cells": [
  {
   "cell_type": "code",
   "execution_count": 1,
   "metadata": {},
   "outputs": [
    {
     "name": "stdout",
     "output_type": "stream",
     "text": [
      "['seashell', 'strange berry', 'lint']\n",
      "['xylophone', 'dagger', 'bedroll', 'bread loaf']\n",
      "['bedroll', 'bread loaf', 'dagger', 'xylophone']\n",
      "['bedroll', 'bread loaf', 'xylophone']\n",
      "550\n"
     ]
    }
   ],
   "source": [
    "#Number 1\n",
    "inventory = {\n",
    "  'gold': 500,\n",
    "  'pouch': ['flint', 'twine', 'gemstone'],\n",
    "  'backpack': ['xylophone', 'dagger', 'bedroll', 'bread loaf']\n",
    "}\n",
    "\n",
    "inventory['pocket'] = ['seashell', 'strange berry', 'lint']\n",
    "print (inventory[\"pocket\"]) # New key and value\n",
    "\n",
    "print(inventory['backpack'])  # print before sort\n",
    "inventory['backpack'].sort()  # sorting list\n",
    "print(inventory['backpack']) # print after sort\n",
    "\n",
    "# inventory['backpack'].remove(\"dagger\") # remove by name\n",
    "inventory['backpack'].pop(2)  # remove by index\n",
    "print(inventory['backpack'])\n",
    "\n",
    "inventory['gold'] += 50  # add 50\n",
    "print(inventory['gold'])\n"
   ]
  },
  {
   "cell_type": "code",
   "execution_count": 3,
   "metadata": {},
   "outputs": [
    {
     "name": "stdout",
     "output_type": "stream",
     "text": [
      "banana\n",
      "price : 4\n",
      "stock : 1\n",
      "apple\n",
      "price : 2\n",
      "stock : 1\n",
      "orange\n",
      "price : 1.5\n",
      "stock : 1\n",
      "pear\n",
      "price : 3\n",
      "stock : 1\n",
      "Total Price: 10.5\n"
     ]
    }
   ],
   "source": [
    "#Number 2\n",
    "prices = {\n",
    "  \"banana\": 4,\n",
    "  \"apple\": 2,\n",
    "  \"orange\": 1.5,\n",
    "  \"pear\": 3,\n",
    "}\n",
    "\n",
    "total = 0 #create a variable\n",
    "for key, value in prices.items(): #loop through the prices dicitionary\n",
    "  print(key)\n",
    "  print(\"price :\", value)\n",
    "  print(\"stock : 1\")\n",
    "  total += (value * 1) #total price = price * stock\n",
    "\n",
    "print(\"Total Price:\", total)"
   ]
  },
  {
   "cell_type": "code",
   "execution_count": 5,
   "metadata": {},
   "outputs": [
    {
     "name": "stdout",
     "output_type": "stream",
     "text": [
      "Stock : 5\n",
      "Stock : 4\n",
      "Stock : 3\n",
      "Total Price: 12\n"
     ]
    }
   ],
   "source": [
    "#Number 3\n",
    "groceries = [\"banana\", \"orange\", \"apple\"] #list\n",
    "stock = {\n",
    "  \"banana\": 6,\n",
    "  \"apple\": 0,\n",
    "  \"orange\": 32,\n",
    "  \"pear\": 15,\n",
    "}\n",
    "prices = {\n",
    "  \"banana\": 4,\n",
    "  \"apple\": 2,\n",
    "  \"orange\": 1.5,\n",
    "  \"pear\": 3,\n",
    "}\n",
    "\n",
    "\n",
    "def compute_bill(food):\n",
    "  total = 0 #create a variable\n",
    "\n",
    "  list_food = food.split(\" \") #split for ex: banana banana banana \n",
    "\n",
    "  for key in list_food: #loop\n",
    "    # check stock\n",
    "    if stock[key] > 0:\n",
    "      total += prices[key]\n",
    "\n",
    "      stock[key] -= 1 #every stock -1\n",
    "\n",
    "    print(\"Stock :\", stock[key])\n",
    "\n",
    "  return total\n",
    "\n",
    "\n",
    "food = input(\"Enter food : \")\n",
    "food_price = compute_bill(food)\n",
    "\n",
    "print(\"Total Price:\", food_price)"
   ]
  },
  {
   "cell_type": "code",
   "execution_count": 16,
   "metadata": {},
   "outputs": [
    {
     "name": "stdout",
     "output_type": "stream",
     "text": [
      "Name : Eren\n",
      "Homework : [90.0, 97.0, 75.0, 92.0]\n",
      "Quizzes : [88.0, 40.0, 94.0]\n",
      "Tests : [75.0, 90.0]\n",
      "\n",
      "\n",
      "Name : Mikasa\n",
      "Homework : [100.0, 92.0, 98.0, 100.0]\n",
      "Quizzes : [82.0, 83.0, 91.0]\n",
      "Tests : [89.0, 97.0]\n",
      "\n",
      "\n",
      "Name : Armin\n",
      "Homework : [0.0, 87.0, 75.0, 22.0]\n",
      "Quizzes : [0.0, 75.0, 78.0]\n",
      "Tests : [100.0, 100.0]\n",
      "\n",
      "\n",
      "The letter grade for armin: C\n",
      "The class average : 83.86666666666666\n",
      "The class average letter grade : B \n"
     ]
    }
   ],
   "source": [
    "#Number 4\n",
    "eren = {\n",
    "  \"name\": \"Eren\",\n",
    "  \"homework\": [90.0, 97.0, 75.0, 92.0],\n",
    "  \"quizzes\": [88.0, 40.0, 94.0],\n",
    "  \"tests\": [75.0, 90.0],\n",
    "}\n",
    "mikasa = {\n",
    "  \"name\": \"Mikasa\",\n",
    "  \"homework\": [100.0, 92.0, 98.0, 100.0],\n",
    "  \"quizzes\": [82.0, 83.0, 91.0],\n",
    "  \"tests\": [89.0, 97.0],\n",
    "}\n",
    "armin = {\n",
    "  \"name\": \"Armin\",\n",
    "  \"homework\": [0.0, 87.0, 75.0, 22.0],\n",
    "  \"quizzes\": [0.0, 75.0, 78.0],\n",
    "  \"tests\": [100.0, 100.0],\n",
    "}\n",
    "\n",
    "students = [eren, mikasa, armin] #list\n",
    "\n",
    "for student in students: \n",
    "    for key, value in student.items():\n",
    "        print(f\"{key.title()} : {value}\")\n",
    "    print(\"\\n\")\n",
    "\n",
    "def average(numbers):\n",
    "  return sum(numbers) / len(numbers)\n",
    "\n",
    "def get_average(student):\n",
    "  avg_homework = average(student[\"homework\"])\n",
    "  avg_quiz = average(student[\"quizzes\"])\n",
    "  avg_tests = average(student[\"tests\"])\n",
    "  total = (avg_homework * 10/100) + (avg_quiz * 30/100) + (avg_tests * 60/100)\n",
    "  return total \n",
    "\n",
    "\n",
    "def get_letter_grade(score):\n",
    "  if score >= 90:\n",
    "    return \"A\"\n",
    "  elif score >= 80:\n",
    "    return \"B\"\n",
    "  elif score >= 70:\n",
    "    return \"C\"\n",
    "  elif score >= 60:\n",
    "    return \"D\"\n",
    "  else:\n",
    "    return \"F\"\n",
    "\n",
    "\n",
    "print(f\"The letter grade for armin: {get_letter_grade(get_average(armin))}\") \n",
    "\n",
    "def get_class_average(students):\n",
    "    results = []\n",
    "    for student in students:\n",
    "        results.append(get_average(student))\n",
    "    return average(results)\n",
    "\n",
    "print(f\"The class average : {get_class_average(students)}\")\n",
    "print(f\"The class average letter grade : {get_letter_grade(get_class_average(students))} \")\n"
   ]
  }
 ],
 "metadata": {
  "kernelspec": {
   "display_name": "Python 3.10.6 64-bit",
   "language": "python",
   "name": "python3"
  },
  "language_info": {
   "codemirror_mode": {
    "name": "ipython",
    "version": 3
   },
   "file_extension": ".py",
   "mimetype": "text/x-python",
   "name": "python",
   "nbconvert_exporter": "python",
   "pygments_lexer": "ipython3",
   "version": "3.10.6"
  },
  "orig_nbformat": 4,
  "vscode": {
   "interpreter": {
    "hash": "27f6fea6f47ae512550f0b8facdbd035a93e1dd89633f7bf2dd00a2502c71d0d"
   }
  }
 },
 "nbformat": 4,
 "nbformat_minor": 2
}
